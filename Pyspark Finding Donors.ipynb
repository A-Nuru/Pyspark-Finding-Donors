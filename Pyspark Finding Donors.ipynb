{
 "cells": [
  {
   "cell_type": "code",
   "execution_count": 3,
   "metadata": {},
   "outputs": [],
   "source": [
    "import findspark\n",
    "findspark.init('/home/ecomog/spark-2.4.3-bin-hadoop2.7')\n",
    "import pyspark\n",
    "\n",
    "from pyspark.ml.linalg import Vectors\n",
    "from pyspark.ml.feature import (VectorAssembler, StringIndexer, \n",
    "                                VectorIndexer, Normalizer, StandardScaler)\n",
    "from pyspark.sql.functions import udf\n",
    "from pyspark.sql.types import IntegerType\n",
    "from pyspark.ml.classification import RandomForestClassifier,DecisionTreeClassifier\n",
    "from pyspark.sql import SparkSession"
   ]
  },
  {
   "cell_type": "code",
   "execution_count": 2,
   "metadata": {},
   "outputs": [],
   "source": [
    "# Start a spark session\n",
    "spark = SparkSession.builder.appName('finddonors').getOrCreate()"
   ]
  },
  {
   "cell_type": "code",
   "execution_count": 11,
   "metadata": {},
   "outputs": [],
   "source": [
    "# Load training data\n",
    "data = spark.read.csv('census.csv', header=True)"
   ]
  },
  {
   "cell_type": "code",
   "execution_count": 6,
   "metadata": {},
   "outputs": [
    {
     "data": {
      "text/plain": [
       "(45223, 14)"
      ]
     },
     "execution_count": 6,
     "metadata": {},
     "output_type": "execute_result"
    }
   ],
   "source": [
    "# Exploring the dataset\n",
    "data.count(), len(data.columns)"
   ]
  },
  {
   "cell_type": "code",
   "execution_count": 12,
   "metadata": {},
   "outputs": [
    {
     "data": {
      "text/plain": [
       "DataFrame[age: string, workclass: string, education_level: string, education-num: string, marital-status: string, occupation: string, relationship: string, race: string, sex: string, capital-gain: string, capital-loss: string, hours-per-week: string, native-country: string, income: string]"
      ]
     },
     "execution_count": 12,
     "metadata": {},
     "output_type": "execute_result"
    }
   ],
   "source": [
    "data"
   ]
  },
  {
   "cell_type": "code",
   "execution_count": 13,
   "metadata": {},
   "outputs": [
    {
     "name": "stdout",
     "output_type": "stream",
     "text": [
      "root\n",
      " |-- age: string (nullable = true)\n",
      " |-- workclass: string (nullable = true)\n",
      " |-- education_level: string (nullable = true)\n",
      " |-- education-num: string (nullable = true)\n",
      " |-- marital-status: string (nullable = true)\n",
      " |-- occupation: string (nullable = true)\n",
      " |-- relationship: string (nullable = true)\n",
      " |-- race: string (nullable = true)\n",
      " |-- sex: string (nullable = true)\n",
      " |-- capital-gain: string (nullable = true)\n",
      " |-- capital-loss: string (nullable = true)\n",
      " |-- hours-per-week: string (nullable = true)\n",
      " |-- native-country: string (nullable = true)\n",
      " |-- income: string (nullable = true)\n",
      "\n"
     ]
    }
   ],
   "source": [
    "data.printSchema()"
   ]
  },
  {
   "cell_type": "code",
   "execution_count": 14,
   "metadata": {},
   "outputs": [
    {
     "data": {
      "text/plain": [
       "[Row(age='39', workclass=' State-gov', education_level=' Bachelors', education-num='13.0', marital-status=' Never-married', occupation=' Adm-clerical', relationship=' Not-in-family', race=' White', sex=' Male', capital-gain='2174.0', capital-loss='0.0', hours-per-week='40.0', native-country=' United-States', income='<=50K'),\n",
       " Row(age='50', workclass=' Self-emp-not-inc', education_level=' Bachelors', education-num='13.0', marital-status=' Married-civ-spouse', occupation=' Exec-managerial', relationship=' Husband', race=' White', sex=' Male', capital-gain='0.0', capital-loss='0.0', hours-per-week='13.0', native-country=' United-States', income='<=50K'),\n",
       " Row(age='38', workclass=' Private', education_level=' HS-grad', education-num='9.0', marital-status=' Divorced', occupation=' Handlers-cleaners', relationship=' Not-in-family', race=' White', sex=' Male', capital-gain='0.0', capital-loss='0.0', hours-per-week='40.0', native-country=' United-States', income='<=50K')]"
      ]
     },
     "execution_count": 14,
     "metadata": {},
     "output_type": "execute_result"
    }
   ],
   "source": [
    "data.head(3)"
   ]
  },
  {
   "cell_type": "code",
   "execution_count": 15,
   "metadata": {},
   "outputs": [
    {
     "data": {
      "text/plain": [
       "[Row(summary='count', age='45222', workclass='45222', education_level='45222', education-num='45222', marital-status='45222', occupation='45222', relationship='45222', race='45222', sex='45222', capital-gain='45222', capital-loss='45222', hours-per-week='45222', native-country='45222', income='45222'),\n",
       " Row(summary='mean', age='38.547941267524656', workclass=None, education_level=None, education-num='10.118460041572686', marital-status=None, occupation=None, relationship=None, race=None, sex=None, capital-gain='1101.4303436380524', capital-loss='88.595418159303', hours-per-week='40.93801689443191', native-country=None, income=None),\n",
       " Row(summary='stddev', age='13.217870219055506', workclass=None, education_level=None, education-num='2.552881195075874', marital-status=None, occupation=None, relationship=None, race=None, sex=None, capital-gain='7506.430083745257', capital-loss='404.9560920589649', hours-per-week='12.007508230033462', native-country=None, income=None),\n",
       " Row(summary='min', age='17', workclass=' Federal-gov', education_level=' 10th', education-num='1.0', marital-status=' Divorced', occupation=' Adm-clerical', relationship=' Husband', race=' Amer-Indian-Eskimo', sex=' Female', capital-gain='0.0', capital-loss='0.0', hours-per-week='1.0', native-country=' Cambodia', income='<=50K'),\n",
       " Row(summary='max', age='90', workclass=' Without-pay', education_level=' Some-college', education-num='9.0', marital-status=' Widowed', occupation=' Transport-moving', relationship=' Wife', race=' White', sex=' Male', capital-gain='99999.0', capital-loss='974.0', hours-per-week='99.0', native-country=' Yugoslavia', income='>50K')]"
      ]
     },
     "execution_count": 15,
     "metadata": {},
     "output_type": "execute_result"
    }
   ],
   "source": [
    "data.describe().collect()"
   ]
  },
  {
   "cell_type": "code",
   "execution_count": 16,
   "metadata": {},
   "outputs": [
    {
     "name": "stdout",
     "output_type": "stream",
     "text": [
      "+---+-----------------+---------------+-------------+----------------------+------------------+--------------+-------------------+-------+------------+------------+--------------+--------------+------+\n",
      "|age|workclass        |education_level|education-num|marital-status        |occupation        |relationship  |race               |sex    |capital-gain|capital-loss|hours-per-week|native-country|income|\n",
      "+---+-----------------+---------------+-------------+----------------------+------------------+--------------+-------------------+-------+------------+------------+--------------+--------------+------+\n",
      "|39 | State-gov       | Bachelors     |13.0         | Never-married        | Adm-clerical     | Not-in-family| White             | Male  |2174.0      |0.0         |40.0          | United-States|<=50K |\n",
      "|50 | Self-emp-not-inc| Bachelors     |13.0         | Married-civ-spouse   | Exec-managerial  | Husband      | White             | Male  |0.0         |0.0         |13.0          | United-States|<=50K |\n",
      "|38 | Private         | HS-grad       |9.0          | Divorced             | Handlers-cleaners| Not-in-family| White             | Male  |0.0         |0.0         |40.0          | United-States|<=50K |\n",
      "|53 | Private         | 11th          |7.0          | Married-civ-spouse   | Handlers-cleaners| Husband      | Black             | Male  |0.0         |0.0         |40.0          | United-States|<=50K |\n",
      "|28 | Private         | Bachelors     |13.0         | Married-civ-spouse   | Prof-specialty   | Wife         | Black             | Female|0.0         |0.0         |40.0          | Cuba         |<=50K |\n",
      "|37 | Private         | Masters       |14.0         | Married-civ-spouse   | Exec-managerial  | Wife         | White             | Female|0.0         |0.0         |40.0          | United-States|<=50K |\n",
      "|49 | Private         | 9th           |5.0          | Married-spouse-absent| Other-service    | Not-in-family| Black             | Female|0.0         |0.0         |16.0          | Jamaica      |<=50K |\n",
      "|52 | Self-emp-not-inc| HS-grad       |9.0          | Married-civ-spouse   | Exec-managerial  | Husband      | White             | Male  |0.0         |0.0         |45.0          | United-States|>50K  |\n",
      "|31 | Private         | Masters       |14.0         | Never-married        | Prof-specialty   | Not-in-family| White             | Female|14084.0     |0.0         |50.0          | United-States|>50K  |\n",
      "|42 | Private         | Bachelors     |13.0         | Married-civ-spouse   | Exec-managerial  | Husband      | White             | Male  |5178.0      |0.0         |40.0          | United-States|>50K  |\n",
      "|37 | Private         | Some-college  |10.0         | Married-civ-spouse   | Exec-managerial  | Husband      | Black             | Male  |0.0         |0.0         |80.0          | United-States|>50K  |\n",
      "|30 | State-gov       | Bachelors     |13.0         | Married-civ-spouse   | Prof-specialty   | Husband      | Asian-Pac-Islander| Male  |0.0         |0.0         |40.0          | India        |>50K  |\n",
      "|23 | Private         | Bachelors     |13.0         | Never-married        | Adm-clerical     | Own-child    | White             | Female|0.0         |0.0         |30.0          | United-States|<=50K |\n",
      "|32 | Private         | Assoc-acdm    |12.0         | Never-married        | Sales            | Not-in-family| Black             | Male  |0.0         |0.0         |50.0          | United-States|<=50K |\n",
      "|34 | Private         | 7th-8th       |4.0          | Married-civ-spouse   | Transport-moving | Husband      | Amer-Indian-Eskimo| Male  |0.0         |0.0         |45.0          | Mexico       |<=50K |\n",
      "|25 | Self-emp-not-inc| HS-grad       |9.0          | Never-married        | Farming-fishing  | Own-child    | White             | Male  |0.0         |0.0         |35.0          | United-States|<=50K |\n",
      "|32 | Private         | HS-grad       |9.0          | Never-married        | Machine-op-inspct| Unmarried    | White             | Male  |0.0         |0.0         |40.0          | United-States|<=50K |\n",
      "|38 | Private         | 11th          |7.0          | Married-civ-spouse   | Sales            | Husband      | White             | Male  |0.0         |0.0         |50.0          | United-States|<=50K |\n",
      "|43 | Self-emp-not-inc| Masters       |14.0         | Divorced             | Exec-managerial  | Unmarried    | White             | Female|0.0         |0.0         |45.0          | United-States|>50K  |\n",
      "|40 | Private         | Doctorate     |16.0         | Married-civ-spouse   | Prof-specialty   | Husband      | White             | Male  |0.0         |0.0         |60.0          | United-States|>50K  |\n",
      "+---+-----------------+---------------+-------------+----------------------+------------------+--------------+-------------------+-------+------------+------------+--------------+--------------+------+\n",
      "only showing top 20 rows\n",
      "\n"
     ]
    }
   ],
   "source": [
    "data.show(truncate=False)"
   ]
  }
 ],
 "metadata": {
  "kernelspec": {
   "display_name": "Python 3",
   "language": "python",
   "name": "python3"
  },
  "language_info": {
   "codemirror_mode": {
    "name": "ipython",
    "version": 3
   },
   "file_extension": ".py",
   "mimetype": "text/x-python",
   "name": "python",
   "nbconvert_exporter": "python",
   "pygments_lexer": "ipython3",
   "version": "3.6.8"
  }
 },
 "nbformat": 4,
 "nbformat_minor": 2
}
